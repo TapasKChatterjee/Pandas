{
 "cells": [
  {
   "cell_type": "code",
   "execution_count": 1,
   "id": "957000f0",
   "metadata": {},
   "outputs": [],
   "source": [
    "import pandas as pd"
   ]
  },
  {
   "cell_type": "markdown",
   "id": "54a87c89",
   "metadata": {},
   "source": [
    "### Q1. Create a Pandas Series that contains the following data: 4, 8, 15, 16, 23, and 42. Then, print the series.\n"
   ]
  },
  {
   "cell_type": "code",
   "execution_count": 2,
   "id": "003f2160",
   "metadata": {},
   "outputs": [
    {
     "name": "stdout",
     "output_type": "stream",
     "text": [
      "0     4\n",
      "1     8\n",
      "2    15\n",
      "3    16\n",
      "4    23\n",
      "5    42\n",
      "dtype: int64\n"
     ]
    }
   ],
   "source": [
    "# Creating a Pandas Series\n",
    "\n",
    "series = pd.Series([4, 8, 15, 16, 23, 42])\n",
    "\n",
    "# Printing the Series\n",
    "print(series)"
   ]
  },
  {
   "cell_type": "markdown",
   "id": "d945dbfc",
   "metadata": {},
   "source": [
    "### Q2. Create a variable of list type containing 10 elements in it, and apply pandas.Series function on the variable print it.\n"
   ]
  },
  {
   "cell_type": "code",
   "execution_count": 5,
   "id": "98bd6f9e",
   "metadata": {},
   "outputs": [
    {
     "data": {
      "text/plain": [
       "[0, 1, 2, 3, 4, 5, 6, 7, 8, 9]"
      ]
     },
     "execution_count": 5,
     "metadata": {},
     "output_type": "execute_result"
    }
   ],
   "source": [
    "list1=[i for i in range(10)]\n",
    "list1"
   ]
  },
  {
   "cell_type": "code",
   "execution_count": 6,
   "id": "c075516d",
   "metadata": {},
   "outputs": [
    {
     "data": {
      "text/plain": [
       "list"
      ]
     },
     "execution_count": 6,
     "metadata": {},
     "output_type": "execute_result"
    }
   ],
   "source": [
    "type(list1)"
   ]
  },
  {
   "cell_type": "code",
   "execution_count": 8,
   "id": "3865d816",
   "metadata": {},
   "outputs": [
    {
     "data": {
      "text/plain": [
       "0    0\n",
       "1    1\n",
       "2    2\n",
       "3    3\n",
       "4    4\n",
       "5    5\n",
       "6    6\n",
       "7    7\n",
       "8    8\n",
       "9    9\n",
       "dtype: int64"
      ]
     },
     "execution_count": 8,
     "metadata": {},
     "output_type": "execute_result"
    }
   ],
   "source": [
    "list1=pd.Series(list1)\n",
    "list1"
   ]
  },
  {
   "cell_type": "code",
   "execution_count": 9,
   "id": "715f4edd",
   "metadata": {},
   "outputs": [
    {
     "data": {
      "text/plain": [
       "pandas.core.series.Series"
      ]
     },
     "execution_count": 9,
     "metadata": {},
     "output_type": "execute_result"
    }
   ],
   "source": [
    "type(list1)"
   ]
  },
  {
   "attachments": {
    "image.png": {
     "image/png": "[encoded data removed]"
    }
   },
   "cell_type": "markdown",
   "id": "2ebacbad",
   "metadata": {},
   "source": [
    "### Q3. Create a Pandas DataFrame that contains the following data:\n",
    "\n",
    "![image.png](attachment:image.png)\n",
    "\n",
    "Then, print the DataFrame.\n"
   ]
  },
  {
   "cell_type": "code",
   "execution_count": 10,
   "id": "3278a2fd",
   "metadata": {},
   "outputs": [],
   "source": [
    "Name=['Alice','Bob','Clarie']\n",
    "Age=[25,30,27]\n",
    "Gender=[\"Female\",\"Male\",\"Female\"]"
   ]
  },
  {
   "cell_type": "code",
   "execution_count": 12,
   "id": "f52ca1ea",
   "metadata": {},
   "outputs": [],
   "source": [
    "df=pd.DataFrame({\"Name\":Name,\"Age\":Age,\"Gender\":Gender})"
   ]
  },
  {
   "cell_type": "code",
   "execution_count": 13,
   "id": "2efe9d04",
   "metadata": {},
   "outputs": [
    {
     "data": {
      "text/html": [
       "<div>\n",
       "<style scoped>\n",
       "    .dataframe tbody tr th:only-of-type {\n",
       "        vertical-align: middle;\n",
       "    }\n",
       "\n",
       "    .dataframe tbody tr th {\n",
       "        vertical-align: top;\n",
       "    }\n",
       "\n",
       "    .dataframe thead th {\n",
       "        text-align: right;\n",
       "    }\n",
       "</style>\n",
       "<table border=\"1\" class=\"dataframe\">\n",
       "  <thead>\n",
       "    <tr style=\"text-align: right;\">\n",
       "      <th></th>\n",
       "      <th>Name</th>\n",
       "      <th>Age</th>\n",
       "      <th>Gender</th>\n",
       "    </tr>\n",
       "  </thead>\n",
       "  <tbody>\n",
       "    <tr>\n",
       "      <th>0</th>\n",
       "      <td>Alice</td>\n",
       "      <td>25</td>\n",
       "      <td>Female</td>\n",
       "    </tr>\n",
       "    <tr>\n",
       "      <th>1</th>\n",
       "      <td>Bob</td>\n",
       "      <td>30</td>\n",
       "      <td>Male</td>\n",
       "    </tr>\n",
       "    <tr>\n",
       "      <th>2</th>\n",
       "      <td>Clarie</td>\n",
       "      <td>27</td>\n",
       "      <td>Female</td>\n",
       "    </tr>\n",
       "  </tbody>\n",
       "</table>\n",
       "</div>"
      ],
      "text/plain": [
       "     Name  Age  Gender\n",
       "0   Alice   25  Female\n",
       "1     Bob   30    Male\n",
       "2  Clarie   27  Female"
      ]
     },
     "execution_count": 13,
     "metadata": {},
     "output_type": "execute_result"
    }
   ],
   "source": [
    "df"
   ]
  },
  {
   "cell_type": "markdown",
   "id": "1d8418ef",
   "metadata": {},
   "source": [
    "### Q4. What is ‘DataFrame’ in pandas and how is it different from pandas.series? Explain with an example.\n"
   ]
  },
  {
   "cell_type": "markdown",
   "id": "bc864c17",
   "metadata": {},
   "source": [
    "In Pandas, a DataFrame is a two-dimensional, size-mutable, and potentially heterogeneous tabular data structure with labeled axes (rows and columns). It can be thought of as a table, similar to a spreadsheet or SQL table, where data is arranged in rows and columns. Each column in a DataFrame is a Pandas Series.\n",
    "\n",
    "A Pandas Series, on the other hand, is a one-dimensional labeled array capable of holding data of any type. It's essentially a single column of data with associated row labels, similar to a Python dictionary or an array.\n",
    "\n",
    "Here's an example to illustrate the difference between a DataFrame and a Series:"
   ]
  },
  {
   "cell_type": "code",
   "execution_count": 14,
   "id": "fa70f322",
   "metadata": {},
   "outputs": [
    {
     "name": "stdout",
     "output_type": "stream",
     "text": [
      "DataFrame:\n",
      "      Name  Age           City\n",
      "0    Alice   25       New York\n",
      "1      Bob   30  San Francisco\n",
      "2  Charlie   35        Seattle\n",
      "3    David   40         Boston\n",
      "\n",
      "Series:\n",
      "0    25\n",
      "1    30\n",
      "2    35\n",
      "3    40\n",
      "Name: Age, dtype: int64\n"
     ]
    }
   ],
   "source": [
    "import pandas as pd\n",
    "\n",
    "# Creating a DataFrame\n",
    "data = {\n",
    "    'Name': ['Alice', 'Bob', 'Charlie', 'David'],\n",
    "    'Age': [25, 30, 35, 40],\n",
    "    'City': ['New York', 'San Francisco', 'Seattle', 'Boston']\n",
    "}\n",
    "df = pd.DataFrame(data)\n",
    "\n",
    "# Creating a Series\n",
    "ages = pd.Series([25, 30, 35, 40], name='Age')\n",
    "\n",
    "# Printing DataFrame and Series\n",
    "print(\"DataFrame:\")\n",
    "print(df)\n",
    "print(\"\\nSeries:\")\n",
    "print(ages)"
   ]
  },
  {
   "cell_type": "markdown",
   "id": "aa1a11c4",
   "metadata": {},
   "source": [
    "In this example:\n",
    "\n",
    "The DataFrame df consists of multiple columns (Name, Age, City), where each column is a Pandas Series.\n",
    "\n",
    "The Series ages contains only the 'Age' column from the DataFrame. It represents a single column of data with its own row labels."
   ]
  },
  {
   "cell_type": "markdown",
   "id": "750c833b",
   "metadata": {},
   "source": [
    "### Q5. What are some common functions you can use to manipulate data in a Pandas DataFrame? Can you give an example of when you might use one of these functions?\n"
   ]
  },
  {
   "cell_type": "markdown",
   "id": "1ac270c2",
   "metadata": {},
   "source": [
    "Pandas offers a wide range of functions to manipulate data within DataFrames. Some common functions include:\n",
    "\n",
    "#### head() and tail():\n",
    "These functions allow you to view the first or last n rows of a DataFrame, respectively. They are helpful for a quick inspection of the data.\n",
    "\n",
    "Example:\n",
    "\n",
    "print(df.head())\n",
    "\n",
    "#### info() and describe():\n",
    "\n",
    "info() provides a concise summary of a DataFrame, including column data types and missing values, while describe() computes summary statistics for numerical columns (like mean, min, max, etc.).\n",
    "\n",
    "Example:\n",
    "\n",
    "print(df.info())\n",
    "\n",
    "print(df.describe())\n",
    "\n",
    "#### loc[] and iloc[]:\n",
    "\n",
    "loc[] is used to access rows and columns by labels, while iloc[] is used for accessing rows and columns by integer indices. \n",
    "\n",
    "These are useful for data retrieval and manipulation based on specific row or column labels or positions.\n",
    "\n",
    "Example:\n",
    "\n",
    "print(df.loc[2])  # Access the row with label 2\n",
    "\n",
    "print(df.loc[:, 'Age'])  # Access the 'Age' column\n",
    "\n",
    "print(df.iloc[1:3])  # Access rows at positions 1 and 2\n",
    "\n",
    "print(df.iloc[:, 1])  # Access the second column\n",
    "\n",
    "#### drop() and dropna(): drop() is used to remove rows or columns from the DataFrame based on labels or indices, while dropna() is used to drop rows with missing values.\n",
    "\n",
    "Example:\n",
    "\n",
    "df.drop('City', axis=1, inplace=True)  # Remove the 'City' column\n",
    "\n",
    "df.dropna(inplace=True)  # Remove rows with any missing values\n",
    "\n",
    "#### groupby(): This function is used for grouping data in a DataFrame based on specified criteria. It's helpful for performing operations on grouped data, such as aggregation, transformation, or filtering.\n",
    "\n",
    "Example:\n",
    "\n",
    "city_groups = df.groupby('City')['Age'].mean()\n",
    "\n",
    "print(city_groups)\n",
    "\n",
    "These functions are just a few examples of the many powerful tools available in Pandas for data manipulation within DataFrames. They help with data exploration, cleaning, and analysis tasks."
   ]
  },
  {
   "cell_type": "markdown",
   "id": "7253404e",
   "metadata": {},
   "source": [
    "### Q6. Which of the following is mutable in nature Series, DataFrame, Panel?\n"
   ]
  },
  {
   "cell_type": "markdown",
   "id": "b5866e92",
   "metadata": {},
   "source": [
    "In Pandas, both Series and DataFrame are mutable objects, meaning they can be modified after creation.\n",
    "\n",
    "Series: You can modify the elements within a Pandas Series by assigning new values to specific indices.\n",
    "\n",
    "DataFrame: Similarly, a Pandas DataFrame is mutable, allowing modifications such as adding or removing columns, changing values within cells, or appending new rows.\n",
    "\n",
    "However, the Panel data structure has been deprecated in recent versions of Pandas. Earlier, Panel was a mutable three-dimensional data structure for handling data. It had been used for tasks involving data with three or more dimensions. Yet, due to the complexity and lack of common use cases compared to Series and DataFrame, the Panel has been deprecated, and users are encouraged to use other alternatives like multi-index DataFrames.\n",
    "\n",
    "As of Pandas version 1.0 and later, the Panel is no longer actively developed and might be removed in future versions of Pandas. Therefore, it's recommended to use Series and DataFrame for handling data in Pandas."
   ]
  },
  {
   "cell_type": "markdown",
   "id": "26b711a8",
   "metadata": {},
   "source": [
    "### Q7. Create a DataFrame using multiple Series. Explain with an example."
   ]
  },
  {
   "cell_type": "markdown",
   "id": "102959d0",
   "metadata": {},
   "source": [
    "You can create a DataFrame using multiple Series by combining them into a dictionary and then converting that dictionary into a DataFrame. Here's an example:"
   ]
  },
  {
   "cell_type": "code",
   "execution_count": 16,
   "id": "9314b33f",
   "metadata": {},
   "outputs": [
    {
     "name": "stdout",
     "output_type": "stream",
     "text": [
      "      Name  Age           City\n",
      "0    Alice   25       New York\n",
      "1      Bob   30  San Francisco\n",
      "2  Charlie   35        Seattle\n"
     ]
    }
   ],
   "source": [
    "import pandas as pd\n",
    "\n",
    "# Creating multiple Series\n",
    "names = pd.Series(['Alice', 'Bob', 'Charlie'])\n",
    "ages = pd.Series([25, 30, 35])\n",
    "cities = pd.Series(['New York', 'San Francisco', 'Seattle'])\n",
    "\n",
    "# Combining Series into a dictionary\n",
    "data = {\n",
    "    'Name': names,\n",
    "    'Age': ages,\n",
    "    'City': cities\n",
    "}\n",
    "\n",
    "# Creating a DataFrame from the dictionary\n",
    "df = pd.DataFrame(data)\n",
    "\n",
    "# Printing the DataFrame\n",
    "print(df)"
   ]
  },
  {
   "cell_type": "code",
   "execution_count": null,
   "id": "72ada64b",
   "metadata": {},
   "outputs": [],
   "source": []
  }
 ],
 "metadata": {
  "kernelspec": {
   "display_name": "Python 3 (ipykernel)",
   "language": "python",
   "name": "python3"
  },
  "language_info": {
   "codemirror_mode": {
    "name": "ipython",
    "version": 3
   },
   "file_extension": ".py",
   "mimetype": "text/x-python",
   "name": "python",
   "nbconvert_exporter": "python",
   "pygments_lexer": "ipython3",
   "version": "3.9.12"
  }
 },
 "nbformat": 4,
 "nbformat_minor": 5
}
